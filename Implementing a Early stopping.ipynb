{
 "cells": [
  {
   "cell_type": "code",
   "execution_count": 1,
   "id": "0aaebc1d",
   "metadata": {},
   "outputs": [],
   "source": [
    "import tensorflow as tf\n",
    "import keras\n",
    "import numpy as np\n",
    "import matplotlib.pyplot as plt"
   ]
  },
  {
   "cell_type": "code",
   "execution_count": 2,
   "id": "1cdc052a",
   "metadata": {},
   "outputs": [
    {
     "data": {
      "text/plain": [
       "<tf.Variable 'UnreadVariable' shape=() dtype=int64, numpy=1>"
      ]
     },
     "execution_count": 2,
     "metadata": {},
     "output_type": "execute_result"
    }
   ],
   "source": [
    "w= tf.Variable(0, dtype=float)\n",
    "with tf.GradientTape() as tape:\n",
    "    cost = w**2 + 10*w +25\n",
    "trainable_variables= [w]\n",
    "gradients= tape.gradient(cost,trainable_variables)\n",
    "tf.keras.optimizers.Adam().apply_gradients(zip(gradients,trainable_variables))"
   ]
  },
  {
   "cell_type": "code",
   "execution_count": 3,
   "id": "1403585e",
   "metadata": {},
   "outputs": [
    {
     "data": {
      "text/plain": [
       "9"
      ]
     },
     "execution_count": 3,
     "metadata": {},
     "output_type": "execute_result"
    }
   ],
   "source": [
    "mnist= tf.keras.datasets.fashion_mnist\n",
    "(train_data, train_label),(test_data,test_label)=mnist.load_data()\n",
    "train_data=train_data/255\n",
    "test_data= test_data/255\n",
    "train_label[0]"
   ]
  },
  {
   "cell_type": "code",
   "execution_count": 4,
   "id": "299d8729",
   "metadata": {},
   "outputs": [],
   "source": [
    "from tensorflow.keras.models import Model, Sequential"
   ]
  },
  {
   "cell_type": "code",
   "execution_count": 5,
   "id": "90ed03db",
   "metadata": {},
   "outputs": [],
   "source": [
    "model=Sequential([\n",
    "            tf.keras.layers.Flatten(),\n",
    "            tf.keras.layers.Dense(128,'relu',name=\"layer_1\"),\n",
    "            tf.keras.layers.Dense(10,'softmax',name=\"Output_layer\")\n",
    "           ])"
   ]
  },
  {
   "cell_type": "code",
   "execution_count": 9,
   "id": "b5ccaba1",
   "metadata": {},
   "outputs": [],
   "source": [
    "optimizer=tf.keras.optimizers.Adam()\n",
    "loss='sparse_categorical_crossentropy'\n",
    "metrics='accuracy'\n",
    "model.compile(optimizer=optimizer, loss=loss,metrics=[metrics])"
   ]
  },
  {
   "cell_type": "code",
   "execution_count": null,
   "id": "0e6a7b7a",
   "metadata": {},
   "outputs": [],
   "source": []
  },
  {
   "cell_type": "code",
   "execution_count": null,
   "id": "1b485ae2",
   "metadata": {},
   "outputs": [],
   "source": []
  },
  {
   "cell_type": "code",
   "execution_count": 10,
   "id": "aa776c71",
   "metadata": {},
   "outputs": [],
   "source": [
    "class My_callback(tf.keras.callbacks.Callback):\n",
    "    def on_epoch_end(self, epoch, log={}):\n",
    "        if (log.get('accuracy')>0.8):\n",
    "            self.model.stop_training = True\n",
    "callback=My_callback()\n",
    "        "
   ]
  },
  {
   "cell_type": "code",
   "execution_count": 11,
   "id": "21b717a0",
   "metadata": {},
   "outputs": [
    {
     "name": "stdout",
     "output_type": "stream",
     "text": [
      "Epoch 1/5\n",
      "1875/1875 [==============================] - 8s 4ms/step - loss: 0.3782 - accuracy: 0.8637\n",
      "313/313 [==============================] - 1s 3ms/step - loss: 0.3892 - accuracy: 0.8593\n"
     ]
    },
    {
     "data": {
      "text/plain": [
       "[0.3891873061656952, 0.8593000173568726]"
      ]
     },
     "execution_count": 11,
     "metadata": {},
     "output_type": "execute_result"
    }
   ],
   "source": [
    "model.fit(train_data,train_label, epochs=5, callbacks = callback)\n",
    "model.evaluate(test_data,test_label)"
   ]
  },
  {
   "cell_type": "code",
   "execution_count": null,
   "id": "39dd9128",
   "metadata": {},
   "outputs": [],
   "source": []
  }
 ],
 "metadata": {
  "kernelspec": {
   "display_name": "Python 3 (ipykernel)",
   "language": "python",
   "name": "python3"
  },
  "language_info": {
   "codemirror_mode": {
    "name": "ipython",
    "version": 3
   },
   "file_extension": ".py",
   "mimetype": "text/x-python",
   "name": "python",
   "nbconvert_exporter": "python",
   "pygments_lexer": "ipython3",
   "version": "3.9.12"
  }
 },
 "nbformat": 4,
 "nbformat_minor": 5
}
