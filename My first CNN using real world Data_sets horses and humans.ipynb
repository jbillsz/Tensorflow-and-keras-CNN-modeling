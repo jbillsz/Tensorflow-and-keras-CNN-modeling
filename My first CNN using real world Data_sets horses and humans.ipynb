{
 "cells": [
  {
   "cell_type": "code",
   "execution_count": 22,
   "id": "31a4667b",
   "metadata": {},
   "outputs": [],
   "source": [
    "import tensorflow as tf\n",
    "import keras\n",
    "import matplotlib.pyplot as plt\n",
    "import os\n",
    "import numpy as np"
   ]
  },
  {
   "cell_type": "code",
   "execution_count": 23,
   "id": "c9c0215a",
   "metadata": {},
   "outputs": [],
   "source": [
    "from PIL import Image"
   ]
  },
  {
   "cell_type": "code",
   "execution_count": 43,
   "id": "338490d0",
   "metadata": {},
   "outputs": [],
   "source": [
    "model= tf.keras.Sequential([\n",
    "    tf.keras.layers.Conv2D(16,(3,3),activation='relu',input_shape=(300,300,3)),\n",
    "    tf.keras.layers.MaxPooling2D(2,2),\n",
    "    tf.keras.layers.Conv2D(32,(3,3),activation='relu'),\n",
    "    tf.keras.layers.MaxPooling2D(2,2),\n",
    "    tf.keras.layers.Conv2D(64,(3,3),activation='relu'),\n",
    "    tf.keras.layers.MaxPooling2D(2,2),\n",
    "    tf.keras.layers.Conv2D(64,(3,3),activation='relu'),\n",
    "    tf.keras.layers.MaxPooling2D(2,2,),\n",
    "    tf.keras.layers.Conv2D(64,(3,3),activation='relu'),\n",
    "    tf.keras.layers.MaxPooling2D(2,2,),\n",
    "    tf.keras.layers.Flatten(),\n",
    "    tf.keras.layers.Dense(512,'relu'),\n",
    "    tf.keras.layers.Dense(1,'sigmoid')\n",
    "])"
   ]
  },
  {
   "cell_type": "code",
   "execution_count": 44,
   "id": "190615f8",
   "metadata": {},
   "outputs": [
    {
     "name": "stdout",
     "output_type": "stream",
     "text": [
      "Model: \"sequential_4\"\n",
      "_________________________________________________________________\n",
      " Layer (type)                Output Shape              Param #   \n",
      "=================================================================\n",
      " conv2d_25 (Conv2D)          (None, 298, 298, 16)      448       \n",
      "                                                                 \n",
      " max_pooling2d_25 (MaxPoolin  (None, 149, 149, 16)     0         \n",
      " g2D)                                                            \n",
      "                                                                 \n",
      " conv2d_26 (Conv2D)          (None, 147, 147, 32)      4640      \n",
      "                                                                 \n",
      " max_pooling2d_26 (MaxPoolin  (None, 73, 73, 32)       0         \n",
      " g2D)                                                            \n",
      "                                                                 \n",
      " conv2d_27 (Conv2D)          (None, 71, 71, 64)        18496     \n",
      "                                                                 \n",
      " max_pooling2d_27 (MaxPoolin  (None, 35, 35, 64)       0         \n",
      " g2D)                                                            \n",
      "                                                                 \n",
      " conv2d_28 (Conv2D)          (None, 33, 33, 64)        36928     \n",
      "                                                                 \n",
      " max_pooling2d_28 (MaxPoolin  (None, 16, 16, 64)       0         \n",
      " g2D)                                                            \n",
      "                                                                 \n",
      " conv2d_29 (Conv2D)          (None, 14, 14, 64)        36928     \n",
      "                                                                 \n",
      " max_pooling2d_29 (MaxPoolin  (None, 7, 7, 64)         0         \n",
      " g2D)                                                            \n",
      "                                                                 \n",
      " flatten_1 (Flatten)         (None, 3136)              0         \n",
      "                                                                 \n",
      " dense_8 (Dense)             (None, 512)               1606144   \n",
      "                                                                 \n",
      " dense_9 (Dense)             (None, 1)                 513       \n",
      "                                                                 \n",
      "=================================================================\n",
      "Total params: 1,704,097\n",
      "Trainable params: 1,704,097\n",
      "Non-trainable params: 0\n",
      "_________________________________________________________________\n"
     ]
    }
   ],
   "source": [
    "model.summary()"
   ]
  },
  {
   "cell_type": "code",
   "execution_count": 46,
   "id": "c2c479c0",
   "metadata": {},
   "outputs": [],
   "source": [
    "optimizer=tf.keras.optimizers.RMSprop(0.01)\n",
    "loss='binary_crossentropy'\n",
    "accuracy='accuracy'"
   ]
  },
  {
   "cell_type": "code",
   "execution_count": 47,
   "id": "d1164085",
   "metadata": {},
   "outputs": [],
   "source": [
    "model.compile(optimizer=optimizer,loss=loss,metrics=[accuracy])"
   ]
  },
  {
   "cell_type": "code",
   "execution_count": 28,
   "id": "d20352b2",
   "metadata": {},
   "outputs": [],
   "source": [
    "from tensorflow.keras.preprocessing.image import ImageDataGenerator"
   ]
  },
  {
   "cell_type": "code",
   "execution_count": 29,
   "id": "05bc23b8",
   "metadata": {},
   "outputs": [
    {
     "name": "stdout",
     "output_type": "stream",
     "text": [
      "Found 1027 images belonging to 2 classes.\n"
     ]
    }
   ],
   "source": [
    "train_data=ImageDataGenerator(rescale=(1./255))\n",
    "train_generator=train_data.flow_from_directory(\n",
    "\"C:/Users/Paa Kwasi/Desktop/Learning TensorFlow and Keras for DeepLearning/horse-or-human/horse-or-human/horse-or-human/train\",\n",
    "target_size=(300,300),\n",
    "batch_size=128,\n",
    "class_mode='binary')\n",
    "train_generator=train_data.flow_from_directory(\n",
    "\"C:/Users/Paa Kwasi/Desktop/Learning TensorFlow and Keras for DeepLearning/horse-or-human/horse-or-human/horse-or-human/train\",\n",
    "target_size=(300,300),\n",
    "batch_size=128,\n",
    "class_mode='binary')"
   ]
  },
  {
   "cell_type": "code",
   "execution_count": 48,
   "id": "b5858828",
   "metadata": {},
   "outputs": [
    {
     "name": "stdout",
     "output_type": "stream",
     "text": [
      "Epoch 1/15\n",
      "8/8 [==============================] - 94s 10s/step - loss: 1232.1318 - accuracy: 0.5039\n",
      "Epoch 2/15\n",
      "8/8 [==============================] - 76s 9s/step - loss: 0.7869 - accuracy: 0.5928\n",
      "Epoch 3/15\n",
      "8/8 [==============================] - 69s 8s/step - loss: 0.6387 - accuracy: 0.5984\n",
      "Epoch 4/15\n",
      "8/8 [==============================] - 69s 8s/step - loss: 0.6666 - accuracy: 0.6073\n",
      "Epoch 5/15\n",
      "8/8 [==============================] - 66s 8s/step - loss: 0.6937 - accuracy: 0.5172\n",
      "Epoch 6/15\n",
      "8/8 [==============================] - 54s 6s/step - loss: 0.6893 - accuracy: 0.4905\n",
      "Epoch 7/15\n",
      "8/8 [==============================] - 52s 6s/step - loss: 0.6923 - accuracy: 0.4950\n",
      "Epoch 8/15\n",
      "8/8 [==============================] - 53s 6s/step - loss: 0.7330 - accuracy: 0.5473\n",
      "Epoch 9/15\n",
      "8/8 [==============================] - 73s 9s/step - loss: 0.6743 - accuracy: 0.5907\n",
      "Epoch 10/15\n",
      "8/8 [==============================] - 59s 7s/step - loss: 4.5849 - accuracy: 0.5495\n",
      "Epoch 11/15\n",
      "8/8 [==============================] - 58s 7s/step - loss: 0.6666 - accuracy: 0.5907\n",
      "Epoch 12/15\n",
      "8/8 [==============================] - 54s 7s/step - loss: 0.6922 - accuracy: 0.5239\n",
      "Epoch 13/15\n",
      "8/8 [==============================] - 57s 7s/step - loss: 0.9693 - accuracy: 0.5150\n",
      "Epoch 14/15\n",
      "8/8 [==============================] - 58s 7s/step - loss: 1.3585 - accuracy: 0.4950\n",
      "Epoch 15/15\n",
      "8/8 [==============================] - 54s 7s/step - loss: 0.6946 - accuracy: 0.4939\n"
     ]
    }
   ],
   "source": [
    "history=model.fit(train_generator,steps_per_epoch=8,epochs=15,verbose=1)"
   ]
  },
  {
   "cell_type": "markdown",
   "id": "203c06ef",
   "metadata": {},
   "source": [
    "# stopped training\n",
    "\n",
    "My computer was crashing and I couldn't continue. What's most important is i got the concept down.\n",
    "CNNs are resource intensive for a 7th Gen i3, 8gb ram"
   ]
  },
  {
   "cell_type": "code",
   "execution_count": null,
   "id": "1e8c67b6",
   "metadata": {},
   "outputs": [],
   "source": []
  }
 ],
 "metadata": {
  "kernelspec": {
   "display_name": "Python 3 (ipykernel)",
   "language": "python",
   "name": "python3"
  },
  "language_info": {
   "codemirror_mode": {
    "name": "ipython",
    "version": 3
   },
   "file_extension": ".py",
   "mimetype": "text/x-python",
   "name": "python",
   "nbconvert_exporter": "python",
   "pygments_lexer": "ipython3",
   "version": "3.9.12"
  }
 },
 "nbformat": 4,
 "nbformat_minor": 5
}
